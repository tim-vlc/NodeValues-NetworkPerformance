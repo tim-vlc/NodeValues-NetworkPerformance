{
 "cells": [
  {
   "cell_type": "code",
   "execution_count": 1,
   "id": "9edb29c7",
   "metadata": {},
   "outputs": [],
   "source": [
    "%matplotlib inline\n",
    "import itertools\n",
    "import numpy as np\n",
    "import matplotlib.pyplot as plt\n",
    "import math\n",
    "import os\n",
    "import pickle\n",
    "from scipy.optimize import curve_fit"
   ]
  },
  {
   "cell_type": "code",
   "execution_count": 2,
   "id": "f849d75f",
   "metadata": {},
   "outputs": [],
   "source": [
    "# Define a function to deserialize the data\n",
    "def deserialize(name, folder_name):\n",
    "    with open(os.path.join(folder_name, name + \".pkl\"), 'rb') as f:\n",
    "        data = pickle.load(f, encoding='latin1', fix_imports=True)\n",
    "    return data"
   ]
  },
  {
   "cell_type": "code",
   "execution_count": 3,
   "id": "fea5d379",
   "metadata": {},
   "outputs": [],
   "source": [
    "train_size = 1024\n",
    "test_size = 529\n",
    "train_path = 'samples/train_data_f1_plain_' + str(train_size)\n",
    "test_path = 'samples/test_data_f1_plain_' + str(test_size) + '/'\n",
    "\n",
    "# Training and Testing samples\n",
    "x_test, y_test = deserialize(\"x_test\", test_path), deserialize(\"y_test\", test_path)"
   ]
  },
  {
   "cell_type": "code",
   "execution_count": 4,
   "id": "dd4a84a6",
   "metadata": {},
   "outputs": [],
   "source": [
    "#definition of a cost function\n",
    "def mse(pred, truth):\n",
    "    res = []\n",
    "    for p, t in zip(pred, truth):\n",
    "        res.append((p[0]-t[0])**2)\n",
    "    return np.array(res)"
   ]
  },
  {
   "cell_type": "code",
   "execution_count": 5,
   "id": "06590911",
   "metadata": {},
   "outputs": [],
   "source": [
    "archs = [(6, 1), (7, 1), (12, 1), (17, 1), (22, 1), (27, 1), (32, 1),\n",
    "    (6, 2), (8, 2), (10, 2), (12, 2), (14, 2), (16, 2),\n",
    "    (6, 3), (8, 3), (10, 3)]\n",
    "\n",
    "full_err = np.array([])\n",
    "full_out = np.array([])\n",
    "full_dist = np.array([])\n",
    "full_xtest = np.array([])\n",
    "X = x_test.detach().numpy().reshape(1, len(x_test))[0]\n",
    "\n",
    "for width, depth in archs:\n",
    "    for sampling_method in ['REG', 'UNI', 'SOB']:\n",
    "        for state in ['plain', 'hole']:\n",
    "            path = \"serialized_\" + state + \"/serialized_data_\" + sampling_method\n",
    "            for test_num in range(1, 18):\n",
    "                # Deserialize the data using pickle\n",
    "                folder_name = path + f\"_{width}_{depth}_{test_num}\"\n",
    "                list_names = [\"mean_dist\", \"num_out\", \"output_test\"]\n",
    "                list_data = []\n",
    "                for name in list_names:\n",
    "                    list_data.append(deserialize(name, folder_name))\n",
    "                mean_dist = list_data[0]\n",
    "                num_out = list_data[1]\n",
    "                output_test = list_data[2].detach().numpy()\n",
    "                gen_err = mse(output_test, y_test)\n",
    "\n",
    "                stack = np.column_stack((num_out, mean_dist, X, gen_err))\n",
    "\n",
    "                if state == 'plain':\n",
    "                    # create a boolean mask based on your conditions\n",
    "                    mask = np.logical_or((-6 <= stack[:, 2]) & (stack[:, 2] <= -3), (3 <= stack[:, 2]) & (stack[:, 2] <= 6))\n",
    "                else:\n",
    "                    mask = np.logical_or((-4 <= stack[:, 2]) & (stack[:, 2] <= -1), (1 <= stack[:, 2]) & (stack[:, 2] <= 4))\n",
    "\n",
    "                full_err = np.concatenate((full_err, stack[mask][:, 3]))\n",
    "                full_out = np.concatenate((full_out, stack[mask][:, 0]))\n",
    "                full_dist = np.concatenate((full_dist, stack[mask][:, 1]))\n",
    "                full_xtest = np.concatenate((full_xtest, stack[mask][:, 2]))"
   ]
  },
  {
   "cell_type": "code",
   "execution_count": 6,
   "id": "99911fde",
   "metadata": {},
   "outputs": [
    {
     "name": "stdout",
     "output_type": "stream",
     "text": [
      "Slope (a): 0.04076705165418754\n",
      "Intercept (b): 0.3327971191052155\n"
     ]
    },
    {
     "data": {
      "image/png": "[encoded data removed]",
      "text/plain": [
       "<Figure size 432x288 with 1 Axes>"
      ]
     },
     "metadata": {
      "needs_background": "light"
     },
     "output_type": "display_data"
    }
   ],
   "source": [
    "# calculate polynomial\n",
    "z_dist = np.polyfit(full_dist, full_err, 1)\n",
    "f_dist = np.poly1d(z_dist)\n",
    "a = z_dist[0] # slope\n",
    "b = z_dist[1] # intercept\n",
    "\n",
    "# print coefficients\n",
    "print(\"Slope (a):\", a)\n",
    "print(\"Intercept (b):\", b)\n",
    "\n",
    "# calculate new x's and y's\n",
    "x_dist = np.linspace(min(full_dist), max(full_dist), 100)\n",
    "y_dist = f_dist(x_dist)\n",
    "\n",
    "plt.plot(x_dist, y_dist, color='blue')\n",
    "#plt.plot(full_dist, full_err, '.', color='blue')\n",
    "plt.show()"
   ]
  },
  {
   "cell_type": "code",
   "execution_count": 7,
   "id": "353da9fa",
   "metadata": {},
   "outputs": [
    {
     "name": "stdout",
     "output_type": "stream",
     "text": [
      "Slope (a_out): -0.0015300715238903435\n",
      "Intercept (b_out): 0.4031967580723287\n",
      "Slope (a): 0.04076705165418754\n",
      "Intercept (b): 0.3327971191052155\n"
     ]
    },
    {
     "data": {
      "image/png": "[encoded data removed]",
      "text/plain": [
       "<Figure size 432x288 with 1 Axes>"
      ]
     },
     "metadata": {
      "needs_background": "light"
     },
     "output_type": "display_data"
    }
   ],
   "source": [
    "# calculate polynomial\n",
    "z_out = np.polyfit(full_out, full_err, 1)\n",
    "a_out = z_out[0] # slope\n",
    "b_out = z_out[1] # intercept\n",
    "\n",
    "# print coefficients\n",
    "print(\"Slope (a_out):\", a_out)\n",
    "print(\"Intercept (b_out):\", b_out)\n",
    "\n",
    "# calculate new x's and y's\n",
    "x_out = np.linspace(min(full_out), max(full_out), 100)\n",
    "y_out = a_out*x_out + b_out\n",
    "\n",
    "plt.plot(x_out, y_out, label=r\"$\\mathcal{O}_j$ (fitted)\", color='darkorange')\n",
    "plt.plot(full_out, full_err, '.', color='orange')\n",
    "\n",
    "z_dist = np.polyfit(full_dist, full_err, 1)\n",
    "a_dist = z_dist[0] # slope\n",
    "b_dist = z_dist[1] # intercept\n",
    "\n",
    "# print coefficients\n",
    "print(\"Slope (a):\", a_dist)\n",
    "print(\"Intercept (b):\", b_dist)\n",
    "\n",
    "# calculate new x's and y's\n",
    "x_dist = np.linspace(min(full_out), max(full_out), 100)\n",
    "y_dist = a_dist*x_dist + b_dist\n",
    "\n",
    "plt.plot(x_dist, y_dist, label=r\"$\\Delta_J$ (fitted)\", color='blue')\n",
    "\n",
    "plt.xlabel(r\"Distance from mean (blue) or number of nodes out (orange) per $x_j$\", fontsize=12)\n",
    "plt.ylabel(\"Error (MSE)\", fontsize=16)\n",
    "plt.legend(fontsize=13)\n",
    "plt.savefig(\"images/SineNetsUnseen.png\", dpi=100)"
   ]
  },
  {
   "cell_type": "code",
   "execution_count": null,
   "id": "9a7e6538",
   "metadata": {},
   "outputs": [],
   "source": []
  }
 ],
 "metadata": {
  "kernelspec": {
   "display_name": "Python 3 (ipykernel)",
   "language": "python",
   "name": "python3"
  },
  "language_info": {
   "codemirror_mode": {
    "name": "ipython",
    "version": 3
   },
   "file_extension": ".py",
   "mimetype": "text/x-python",
   "name": "python",
   "nbconvert_exporter": "python",
   "pygments_lexer": "ipython3",
   "version": "3.8.13"
  }
 },
 "nbformat": 4,
 "nbformat_minor": 5
}
