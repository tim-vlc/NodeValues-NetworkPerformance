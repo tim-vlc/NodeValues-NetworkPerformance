{
 "cells": [
  {
   "cell_type": "code",
   "execution_count": 38,
   "id": "e363e273",
   "metadata": {},
   "outputs": [],
   "source": [
    "%matplotlib inline\n",
    "import itertools\n",
    "import numpy as np\n",
    "import matplotlib.pyplot as plt\n",
    "import math\n",
    "import os\n",
    "import pickle\n",
    "from scipy.optimize import curve_fit"
   ]
  },
  {
   "cell_type": "code",
   "execution_count": 39,
   "id": "b656361d",
   "metadata": {},
   "outputs": [],
   "source": [
    "# Define a function to deserialize the data\n",
    "def deserialize(name, folder_name):\n",
    "    with open(os.path.join(folder_name, name + \".pkl\"), 'rb') as f:\n",
    "        data = pickle.load(f, encoding='latin1', fix_imports=True)\n",
    "    return data"
   ]
  },
  {
   "cell_type": "code",
   "execution_count": 40,
   "id": "847220e0",
   "metadata": {},
   "outputs": [],
   "source": [
    "test_size = 9216\n",
    "test_path = 'samples/test_data_f3_plain_' + str(test_size) + '/'\n",
    "\n",
    "# Training and Testing samples\n",
    "x_test, y_test = deserialize(\"x_test\", test_path), deserialize(\"y_test\", test_path)"
   ]
  },
  {
   "cell_type": "code",
   "execution_count": 41,
   "id": "91795395",
   "metadata": {},
   "outputs": [],
   "source": [
    "archs = [(6, 1), (7, 1), (12, 1), (17, 1), (22, 1), (27, 1), (32, 1),\n",
    "    (6, 2), (8, 2), (10, 2), (12, 2), (14, 2), (16, 2),\n",
    "    (6, 3), (8, 3), (10, 3)]\n",
    "\n",
    "X = x_test.detach().numpy()\n",
    "\n",
    "sampling_method = 'SOB'\n",
    "\n",
    "if sampling_method == 'REG':\n",
    "    color = 'darkolivegreen'\n",
    "elif sampling_method == 'UNI':\n",
    "    color = 'firebrick'\n",
    "elif sampling_method == 'SOB':\n",
    "    color = 'violet'\n",
    "\n",
    "net_err = []\n",
    "net_out = []\n",
    "net_dist = []\n",
    "\n",
    "for width, depth in archs:\n",
    "        for state in ['plain', 'hole']:\n",
    "            path = \"serialized_\" + state + \"/serialized_data_\" + sampling_method\n",
    "            for test_num in range(1, 9):\n",
    "                # Deserialize the data using pickle\n",
    "                folder_name = path + f\"_{width}_{depth}_{test_num}\"\n",
    "                list_names = [\"mean_dist\", \"num_out\", \"output_test\", \"gensample_err\"]\n",
    "                list_data = []\n",
    "                for name in list_names:\n",
    "                    list_data.append(deserialize(name, folder_name))\n",
    "                mean_dist = np.array(list_data[0])\n",
    "                num_out = np.array(list_data[1])\n",
    "                output_test = list_data[2].detach().numpy()\n",
    "                gen_err = np.array(list_data[3])\n",
    "\n",
    "                if state == 'plain':\n",
    "                    # create a boolean mask based on your conditions\n",
    "                    mask = np.logical_or.reduce([ (-2 <= X[:, 0]) & (X[:, 0] <= 2) & (-2 <= X[:, 1]) & (X[:, 1] <= -1),\n",
    "                                                (-2 <= X[:, 0]) & (X[:, 0] <= -1) & (-1 <= X[:, 1]) & (X[:, 1] <= 2),\n",
    "                                                (-2 <= X[:, 0]) & (X[:, 0] <= 2) & (1 <= X[:, 1]) & (X[:, 1] <= 2),\n",
    "                                                (1 <= X[:, 0]) & (X[:, 0] <= 2) & (-1 <= X[:, 1]) & (X[:, 1] <= 1)\n",
    "                                                ])\n",
    "                else:\n",
    "                    mask = np.logical_or((-2 <= X[:, 0]) & (X[:, 0] <= -0.667) & (0.667 <= X[:, 1]) & (X[:, 1] <= 2),\n",
    "                                        (0.667 <= X[:, 0]) & (X[:, 0] <= 2) & (-0.667 <= X[:, 1]) & (X[:, 1] <= 0.667),\n",
    "                                        (-2 <= X[:, 0]) & (X[:, 0] <= -0.667) & (-2 <= X[:, 1]) & (X[:, 1] <= -0.667))\n",
    "                \n",
    "                avg_err = sum(gen_err[mask]) / len(gen_err[mask])\n",
    "                avg_out = sum(num_out[mask]) / len(num_out[mask])\n",
    "                avg_dist = sum(mean_dist[mask]) / len(mean_dist[mask])\n",
    "                \n",
    "                net_err.append(avg_err)\n",
    "                net_dist.append(avg_dist)\n",
    "                net_out.append(avg_out)"
   ]
  },
  {
   "cell_type": "code",
   "execution_count": null,
   "id": "bef2987e",
   "metadata": {},
   "outputs": [],
   "source": []
  },
  {
   "cell_type": "code",
   "execution_count": 42,
   "id": "49f10c90",
   "metadata": {},
   "outputs": [
    {
     "name": "stdout",
     "output_type": "stream",
     "text": [
      "Slope (a): 0.02623952206415862\n",
      "Intercept (b): 1.0654345545861172\n",
      "3.8151595504195592 1.2139242739400156 1.1655425177876362\n"
     ]
    },
    {
     "data": {
      "image/png": "[encoded data removed]",
      "text/plain": [
       "<Figure size 432x288 with 1 Axes>"
      ]
     },
     "metadata": {
      "needs_background": "light"
     },
     "output_type": "display_data"
    }
   ],
   "source": [
    "# calculate polynomial\n",
    "z_dist = np.polyfit(net_out, net_err, 1)\n",
    "f_dist = np.poly1d(z_dist)\n",
    "a_dist = z_dist[0] # slope\n",
    "b_dist = z_dist[1] # intercept\n",
    "\n",
    "# print coefficients\n",
    "print(\"Slope (a):\", a_dist)\n",
    "print(\"Intercept (b):\", b_dist)\n",
    "\n",
    "# calculate new x's and y's\n",
    "x_dist = np.linspace(min(net_out), max(net_out), 100)\n",
    "y_dist = f_dist(x_dist)\n",
    "\n",
    "plt.plot(x_dist, y_dist, label=\"fitted function\", color=color)\n",
    "plt.plot(net_out, net_err, '.', color=color)\n",
    "\n",
    "plt.xlabel(r\"$\\Omega_i$ per network $NN_i$ trained on \"+str(sampling_method), fontsize=15)\n",
    "plt.ylabel(\"Error (MSE)\", fontsize=15)\n",
    "plt.legend()\n",
    "\n",
    "plt.savefig(f\"images/F3OmegaNet{sampling_method}.png\", dpi=300)\n",
    "\n",
    "tot_out = sum(list(net_out)) / len(list(net_out))\n",
    "tot_dist = sum(list(net_dist)) / len(list(net_dist))\n",
    "tot_err = sum(list(net_err)) / len(list(net_err))\n",
    "print(tot_out, tot_dist, tot_err)"
   ]
  },
  {
   "cell_type": "code",
   "execution_count": 43,
   "id": "05d784e2",
   "metadata": {},
   "outputs": [
    {
     "name": "stdout",
     "output_type": "stream",
     "text": [
      "Slope (a): 0.41303561487666657\n",
      "Intercept (b): 0.6641485588871113\n",
      "3.8151595504195592 1.2139242739400156 1.1655425177876362\n"
     ]
    },
    {
     "data": {
      "image/png": "[encoded data removed]",
      "text/plain": [
       "<Figure size 432x288 with 1 Axes>"
      ]
     },
     "metadata": {
      "needs_background": "light"
     },
     "output_type": "display_data"
    }
   ],
   "source": [
    "# calculate polynomial\n",
    "z_dist = np.polyfit(net_dist, net_err, 1)\n",
    "f_dist = np.poly1d(z_dist)\n",
    "a_dist = z_dist[0] # slope\n",
    "b_dist = z_dist[1] # intercept\n",
    "\n",
    "# print coefficients\n",
    "print(\"Slope (a):\", a_dist)\n",
    "print(\"Intercept (b):\", b_dist)\n",
    "\n",
    "# calculate new x's and y's\n",
    "x_dist = np.linspace(min(net_dist), max(net_dist), 100)\n",
    "y_dist = f_dist(x_dist)\n",
    "\n",
    "plt.plot(x_dist, y_dist, label=\"fitted function\", color=color)\n",
    "plt.plot(net_dist, net_err, '.', color=color)\n",
    "\n",
    "plt.xlabel(r\"$\\delta_i$ per network $NN_i$ trained on \"+str(sampling_method), fontsize=15)\n",
    "plt.ylabel(\"Error (MSE)\", fontsize=15)\n",
    "plt.legend()\n",
    "\n",
    "plt.savefig(f\"images/F3DeltaNet{sampling_method}.png\", dpi=300)\n",
    "\n",
    "tot_out = sum(list(net_out)) / len(list(net_out))\n",
    "tot_dist = sum(list(net_dist)) / len(list(net_dist))\n",
    "tot_err = sum(list(net_err)) / len(list(net_err))\n",
    "print(tot_out, tot_dist, tot_err)"
   ]
  },
  {
   "cell_type": "code",
   "execution_count": null,
   "id": "2dd2cc3e",
   "metadata": {},
   "outputs": [],
   "source": []
  }
 ],
 "metadata": {
  "kernelspec": {
   "display_name": "Python 3 (ipykernel)",
   "language": "python",
   "name": "python3"
  },
  "language_info": {
   "codemirror_mode": {
    "name": "ipython",
    "version": 3
   },
   "file_extension": ".py",
   "mimetype": "text/x-python",
   "name": "python",
   "nbconvert_exporter": "python",
   "pygments_lexer": "ipython3",
   "version": "3.8.13"
  }
 },
 "nbformat": 4,
 "nbformat_minor": 5
}
