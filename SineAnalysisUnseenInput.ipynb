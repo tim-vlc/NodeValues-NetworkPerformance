{
 "cells": [
  {
   "cell_type": "code",
   "execution_count": 48,
   "id": "444b2ad0",
   "metadata": {},
   "outputs": [],
   "source": [
    "%matplotlib inline\n",
    "import itertools\n",
    "import numpy as np\n",
    "import matplotlib.pyplot as plt\n",
    "import math\n",
    "import os\n",
    "import pickle\n",
    "from scipy.optimize import curve_fit"
   ]
  },
  {
   "cell_type": "code",
   "execution_count": 49,
   "id": "1e1a8bbb",
   "metadata": {},
   "outputs": [],
   "source": [
    "# Define a function to deserialize the data\n",
    "def deserialize(name, folder_name):\n",
    "    with open(os.path.join(folder_name, name + \".pkl\"), 'rb') as f:\n",
    "        data = pickle.load(f, encoding='latin1', fix_imports=True)\n",
    "    return data"
   ]
  },
  {
   "cell_type": "code",
   "execution_count": 50,
   "id": "6a3d8566",
   "metadata": {},
   "outputs": [],
   "source": [
    "train_size = 1024\n",
    "test_size = 529\n",
    "train_path = 'samples/train_data_f1_plain_' + str(train_size)\n",
    "test_path = 'samples/test_data_f1_plain_' + str(test_size) + '/'\n",
    "\n",
    "# Training and Testing samples\n",
    "x_test, y_test = deserialize(\"x_test\", test_path), deserialize(\"y_test\", test_path)"
   ]
  },
  {
   "cell_type": "code",
   "execution_count": 51,
   "id": "ee8ca930",
   "metadata": {},
   "outputs": [],
   "source": [
    "#definition of a cost function\n",
    "def mse(pred, truth):\n",
    "    res = []\n",
    "    for p, t in zip(pred, truth):\n",
    "        res.append((p[0]-t[0])**2)\n",
    "    return np.array(res)"
   ]
  },
  {
   "cell_type": "code",
   "execution_count": 52,
   "id": "f71ef40b",
   "metadata": {},
   "outputs": [],
   "source": [
    "archs = [(6, 1), (7, 1), (12, 1), (17, 1), (22, 1), (27, 1), (32, 1),\n",
    "    (6, 2), (8, 2), (10, 2), (12, 2), (14, 2), (16, 2),\n",
    "    (6, 3), (8, 3), (10, 3)]\n",
    "\n",
    "X = x_test.detach().numpy().reshape(1, len(x_test))[0]\n",
    "\n",
    "sampling_method = 'SOB'\n",
    "\n",
    "if sampling_method == 'REG':\n",
    "    color = 'darkolivegreen'\n",
    "elif sampling_method == 'UNI':\n",
    "    color = 'firebrick'\n",
    "elif sampling_method == 'SOB':\n",
    "    color = 'violet'\n",
    "\n",
    "net_err = []\n",
    "net_out = []\n",
    "net_dist = []\n",
    "\n",
    "for width, depth in archs:\n",
    "        for state in ['plain', 'hole']:\n",
    "            path = \"serialized_\" + state + \"/serialized_data_\" + sampling_method\n",
    "            for test_num in range(1, 18):\n",
    "                # Deserialize the data using pickle\n",
    "                folder_name = path + f\"_{width}_{depth}_{test_num}\"\n",
    "                list_names = [\"mean_dist\", \"num_out\", \"output_test\"]\n",
    "                list_data = []\n",
    "                for name in list_names:\n",
    "                    list_data.append(deserialize(name, folder_name))\n",
    "                mean_dist = list_data[0]\n",
    "                num_out = list_data[1]\n",
    "                output_test = list_data[2].detach().numpy()\n",
    "                gen_err = mse(output_test, y_test)\n",
    "\n",
    "                stack = np.column_stack((num_out, mean_dist, X, gen_err))\n",
    "\n",
    "                if state == 'plain':\n",
    "                    # create a boolean mask based on your conditions\n",
    "                    mask = np.logical_or((-6 <= stack[:, 2]) & (stack[:, 2] <= -3), (3 <= stack[:, 2]) & (stack[:, 2] <= 6))\n",
    "                else:\n",
    "                    mask = np.logical_or((-4 <= stack[:, 2]) & (stack[:, 2] <= -1), (1 <= stack[:, 2]) & (stack[:, 2] <= 4))\n",
    "                \n",
    "                avg_err = sum(stack[mask][:, 3]) / len(stack[mask][:, 3])\n",
    "                avg_out = sum(stack[mask][:, 0]) / len(stack[mask][:, 0])\n",
    "                avg_dist = sum(stack[mask][:, 1]) / len(stack[mask][:, 1])\n",
    "                \n",
    "                net_err.append(avg_err)\n",
    "                net_dist.append(avg_dist)\n",
    "                net_out.append(avg_out)"
   ]
  },
  {
   "cell_type": "code",
   "execution_count": 53,
   "id": "8c97a40b",
   "metadata": {},
   "outputs": [
    {
     "name": "stdout",
     "output_type": "stream",
     "text": [
      "Slope (a): -0.004060955294633687\n",
      "Intercept (b): 0.4082979279794085\n",
      "5.698487947810706 1.5229189604873061 0.3851566231763406\n"
     ]
    },
    {
     "data": {
      "image/png": "[encoded data removed]",
      "text/plain": [
       "<Figure size 432x288 with 1 Axes>"
      ]
     },
     "metadata": {
      "needs_background": "light"
     },
     "output_type": "display_data"
    }
   ],
   "source": [
    "# calculate polynomial\n",
    "z_dist = np.polyfit(net_out, net_err, 1)\n",
    "f_dist = np.poly1d(z_dist)\n",
    "a_dist = z_dist[0] # slope\n",
    "b_dist = z_dist[1] # intercept\n",
    "\n",
    "# print coefficients\n",
    "print(\"Slope (a):\", a_dist)\n",
    "print(\"Intercept (b):\", b_dist)\n",
    "\n",
    "# calculate new x's and y's\n",
    "x_dist = np.linspace(min(net_out), max(net_out), 100)\n",
    "y_dist = f_dist(x_dist)\n",
    "\n",
    "plt.plot(x_dist, y_dist, label=\"fitted function\", color=color)\n",
    "plt.plot(net_out, net_err, '.', color=color)\n",
    "\n",
    "plt.xlabel(r\"$\\Omega_i$ per network $NN_i$ trained on \"+str(sampling_method), fontsize=16)\n",
    "plt.ylabel(\"Error (MSE)\", fontsize=16)\n",
    "plt.legend()\n",
    "\n",
    "# set the font size of the \"fitted function\" label to 13\n",
    "plt.gca().get_legend().get_texts()[0].set_fontsize(13)\n",
    "\n",
    "plt.savefig(f\"images/SineOmegaNet{sampling_method}.png\", dpi=100)\n",
    "\n",
    "tot_out = sum(list(net_out)) / len(list(net_out))\n",
    "tot_dist = sum(list(net_dist)) / len(list(net_dist))\n",
    "tot_err = sum(list(net_err)) / len(list(net_err))\n",
    "print(tot_out, tot_dist, tot_err)"
   ]
  },
  {
   "cell_type": "code",
   "execution_count": 54,
   "id": "10f58b58",
   "metadata": {},
   "outputs": [
    {
     "name": "stdout",
     "output_type": "stream",
     "text": [
      "Slope (a): 0.06327119165124685\n",
      "Intercept (b): 0.28879972575803076\n",
      "5.698487947810706 1.5229189604873061 0.3851566231763406\n"
     ]
    },
    {
     "data": {
      "image/png": "[encoded data removed]",
      "text/plain": [
       "<Figure size 432x288 with 1 Axes>"
      ]
     },
     "metadata": {
      "needs_background": "light"
     },
     "output_type": "display_data"
    }
   ],
   "source": [
    "# calculate polynomial\n",
    "z_dist = np.polyfit(net_dist, net_err, 1)\n",
    "f_dist = np.poly1d(z_dist)\n",
    "a_dist = z_dist[0] # slope\n",
    "b_dist = z_dist[1] # intercept\n",
    "\n",
    "# print coefficients\n",
    "print(\"Slope (a):\", a_dist)\n",
    "print(\"Intercept (b):\", b_dist)\n",
    "\n",
    "# calculate new x's and y's\n",
    "x_dist = np.linspace(min(net_dist), max(net_dist), 100)\n",
    "y_dist = f_dist(x_dist)\n",
    "\n",
    "plt.plot(x_dist, y_dist, label=\"fitted function\", color=color)\n",
    "plt.plot(net_dist, net_err, '.', color=color)\n",
    "\n",
    "plt.xlabel(r\"$\\delta_i$ per network $NN_i$ trained on \"+str(sampling_method), fontsize=16)\n",
    "plt.ylabel(\"Error (MSE)\", fontsize=16)\n",
    "plt.legend()\n",
    "\n",
    "# set the font size of the \"fitted function\" label to 13\n",
    "plt.gca().get_legend().get_texts()[0].set_fontsize(13)\n",
    "\n",
    "plt.savefig(f\"images/SineDeltaNet{sampling_method}.png\", dpi=100)\n",
    "\n",
    "tot_out = sum(list(net_out)) / len(list(net_out))\n",
    "tot_dist = sum(list(net_dist)) / len(list(net_dist))\n",
    "tot_err = sum(list(net_err)) / len(list(net_err))\n",
    "print(tot_out, tot_dist, tot_err)"
   ]
  },
  {
   "cell_type": "code",
   "execution_count": null,
   "id": "d2fce1c0",
   "metadata": {},
   "outputs": [],
   "source": []
  }
 ],
 "metadata": {
  "kernelspec": {
   "display_name": "Python 3 (ipykernel)",
   "language": "python",
   "name": "python3"
  },
  "language_info": {
   "codemirror_mode": {
    "name": "ipython",
    "version": 3
   },
   "file_extension": ".py",
   "mimetype": "text/x-python",
   "name": "python",
   "nbconvert_exporter": "python",
   "pygments_lexer": "ipython3",
   "version": "3.8.13"
  }
 },
 "nbformat": 4,
 "nbformat_minor": 5
}
